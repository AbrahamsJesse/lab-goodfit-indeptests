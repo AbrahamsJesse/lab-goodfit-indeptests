{
 "cells": [
  {
   "cell_type": "markdown",
   "metadata": {},
   "source": [
    "## Question 1\n",
    "The following table indicates the number of 6-point scores in an American rugby match in the 1979 season.\n",
    "\n",
    "![](table1.png)\n",
    "\n",
    "Based on these results, we create a Poisson distribution with the sample mean parameter  = 2.435. Is there any reason to believe that at a .05 level the number of scores is a Poisson variable?"
   ]
  },
  {
   "cell_type": "code",
   "execution_count": null,
   "metadata": {},
   "outputs": [],
   "source": []
  },
  {
   "cell_type": "code",
   "execution_count": 19,
   "metadata": {},
   "outputs": [],
   "source": [
    "import pandas as pd\n",
    "import numpy as np\n",
    "import scipy.stats as st"
   ]
  },
  {
   "cell_type": "code",
   "execution_count": 24,
   "metadata": {},
   "outputs": [
    {
     "data": {
      "text/plain": [
       "Power_divergenceResult(statistic=6.491310681109821, pvalue=0.4836889068537269)"
      ]
     },
     "execution_count": 24,
     "metadata": {},
     "output_type": "execute_result"
    }
   ],
   "source": [
    "Y = np.array([35,99,104,110,62,25,10,3])  # observed\n",
    "mu = 2.435\n",
    "poisson_dist = poisson(mu)\n",
    "\n",
    "loop = np.array([poisson_dist.pmf(item) for item in range(0,7)])\n",
    "reverse_loop = (1- sum(loop))\n",
    "\n",
    "\n",
    "with_tail = np.append(loop, reverse_loop)\n",
    "\n",
    "\n",
    "f_exp = with_tail*sum(Y) #exepected\n",
    "f_exp\n",
    "\n",
    "final = st.chisquare(f_obs = Y, f_exp = f_exp)\n",
    "final"
   ]
  },
  {
   "cell_type": "code",
   "execution_count": null,
   "metadata": {},
   "outputs": [],
   "source": []
  },
  {
   "cell_type": "markdown",
   "metadata": {},
   "source": [
    "## BONUS/OPTIONAL - Question 2\n",
    "Let's analyze a discrete distribution. To analyze the number of defective items in a factory in the city of Medellín, we took a random sample of n = 60 articles and observed the number of defectives in the following table:\n",
    "\n",
    "![](table2.png)\n",
    "\n",
    "A poissón distribution was proposed since it is defined for x = 0,1,2,3, .... using the following model:\n",
    "\n",
    "![](image1.png)\n",
    "\n",
    "For some extra insights check the following link: https://online.stat.psu.edu/stat504/node/63/ \n",
    "\n",
    "Does the distribution of defective items follow this distribution?"
   ]
  },
  {
   "cell_type": "code",
   "execution_count": null,
   "metadata": {},
   "outputs": [],
   "source": [
    "# your code here"
   ]
  },
  {
   "cell_type": "markdown",
   "metadata": {},
   "source": [
    "## Question 3\n",
    "A quality control engineer takes a sample of 10 tires that come out of an assembly line, and would like to verify on the basis of the data that follows, if the number of tires with defects observed over 200 days, if it is true that 5% of all tires have defects (that is, if the sample comes from a binomial population with n = 10 and p = 0.05). \n",
    "\n",
    "![](table3.png)\n"
   ]
  },
  {
   "cell_type": "code",
   "execution_count": 31,
   "metadata": {},
   "outputs": [
    {
     "data": {
      "text/html": [
       "<div>\n",
       "<style scoped>\n",
       "    .dataframe tbody tr th:only-of-type {\n",
       "        vertical-align: middle;\n",
       "    }\n",
       "\n",
       "    .dataframe tbody tr th {\n",
       "        vertical-align: top;\n",
       "    }\n",
       "\n",
       "    .dataframe thead th {\n",
       "        text-align: right;\n",
       "    }\n",
       "</style>\n",
       "<table border=\"1\" class=\"dataframe\">\n",
       "  <thead>\n",
       "    <tr style=\"text-align: right;\">\n",
       "      <th></th>\n",
       "      <th>Number of defective items</th>\n",
       "      <th>Observed Frequency</th>\n",
       "    </tr>\n",
       "  </thead>\n",
       "  <tbody>\n",
       "    <tr>\n",
       "      <th>0</th>\n",
       "      <td>0</td>\n",
       "      <td>138</td>\n",
       "    </tr>\n",
       "    <tr>\n",
       "      <th>1</th>\n",
       "      <td>1</td>\n",
       "      <td>53</td>\n",
       "    </tr>\n",
       "    <tr>\n",
       "      <th>2</th>\n",
       "      <td>2</td>\n",
       "      <td>9</td>\n",
       "    </tr>\n",
       "  </tbody>\n",
       "</table>\n",
       "</div>"
      ],
      "text/plain": [
       "   Number of defective items  Observed Frequency\n",
       "0                          0                 138\n",
       "1                          1                  53\n",
       "2                          2                   9"
      ]
     },
     "execution_count": 31,
     "metadata": {},
     "output_type": "execute_result"
    }
   ],
   "source": [
    "n_defective_items= [0,1,2]\n",
    "observed_freq = [138,53,9]\n",
    "\n",
    "data = pd.DataFrame({'Number of defective items' : n_defective_items, 'Observed Frequency': observed_freq})\n",
    "data"
   ]
  },
  {
   "cell_type": "code",
   "execution_count": null,
   "metadata": {},
   "outputs": [],
   "source": [
    "\n",
    "# THE 6 STEPS OF HYPOTHESIS TESTING\n",
    "\n",
    "# 1. Set the hypothesis\n",
    "# 2. Choose significance / confidence level\n",
    "# 3. Sample\n",
    "# 4. Compute statistic\n",
    "# 5. Get p-value\n",
    "# 6. Decide\n",
    "# the aim with H0 is to disprove a statement, and pvoe H1"
   ]
  },
  {
   "cell_type": "code",
   "execution_count": 46,
   "metadata": {},
   "outputs": [
    {
     "name": "stdout",
     "output_type": "stream",
     "text": [
      "   Number of defective items  Observed Frequency  Expected Frequency\n",
      "0                          0                 138          189.501312\n",
      "1                          1                  53            9.973753\n",
      "2                          2                   9            0.524934\n",
      "Chi-square statistic: 336.4395567867037\n",
      "P-value: 8.771593494341623e-74\n",
      "Reject the null hypothesis: The observed frequencies are significantly different from the expected frequencies.\n"
     ]
    }
   ],
   "source": [
    "import pandas as pd\n",
    "from scipy.stats import chisquare\n",
    "# 1. Set the hypothesis\n",
    "#h0 The observed frequencies are significantly different from the expected frequencies\n",
    "#h1The observed frequencies are consistent with the expected frequencies.\")\n",
    "\n",
    "# data\n",
    "n_defective_items= [0,1,2]\n",
    "observed_freq = [138,53,9]\n",
    "\n",
    "data = pd.DataFrame({'Number of defective items' : n_defective_items, 'Observed Frequency': observed_freq})\n",
    "data\n",
    "\n",
    "#significance\n",
    "alpha = 0.05\n",
    "\n",
    "# total of 200 days\n",
    "total_days = 200\n",
    "\n",
    "# expected frequencies under the null hypothesis\n",
    "expected_freq = [total_days * 0.05**k * (1 - 0.05)**(10 - k) for k in n_defective_items]\n",
    "\n",
    "# Ensure the total number of observations matches\n",
    "total_observed = sum(observed_freq)\n",
    "total_expected = sum(expected_freq)\n",
    "scaling_factor = total_observed / total_expected\n",
    "\n",
    "expected_freq_scaled = [freq * scaling_factor for freq in expected_freq]\n",
    "\n",
    "# Create a DataFrame\n",
    "data = pd.DataFrame({'Number of defective items': n_defective_items, 'Observed Frequency': observed_freq, 'Expected Frequency': expected_freq_scaled})\n",
    "\n",
    "# Display the data\n",
    "print(data)\n",
    "\n",
    "# Perform the chi-square goodness-of-fit test\n",
    "chi2_stat, p_value = chisquare(f_obs=observed_freq, f_exp=expected_freq_scaled)\n",
    "\n",
    "# Output the test results\n",
    "print(f\"Chi-square statistic: {chi2_stat}\")\n",
    "print(f\"P-value: {p_value}\")\n",
    "\n",
    "\n",
    "print(\"Reject the null hypothesis: The observed frequencies are significantly different from the expected frequencies.\")\n"
   ]
  },
  {
   "cell_type": "markdown",
   "metadata": {},
   "source": [
    "## Question 4\n",
    "A researcher gathers information about the patterns of Physical Activity of children in the fifth grade of primary school of a public school. He defines three categories of physical activity (Low, Medium, High). He also inquires about the regular consumption of sugary drinks at school, and defines two categories (Yes = consumed, No = not consumed). We would like to evaluate if there is an association between patterns of physical activity and the consumption of sugary drinks for the children of this school, at a level of 5% significance. The results are in the following table: \n",
    "\n",
    "![](table4.png)"
   ]
  },
  {
   "cell_type": "code",
   "execution_count": 2,
   "metadata": {},
   "outputs": [
    {
     "name": "stdout",
     "output_type": "stream",
     "text": [
      "Chi-squared statistic: 9.335753295083439\n",
      "P-value: 0.025144419876525742\n",
      "There is a significant association between patterns of physical activity and sugary drink consumption.\n"
     ]
    }
   ],
   "source": [
    "import numpy as np\n",
    "import scipy.stats as st\n",
    "\n",
    "observed_low_consumed= 32\n",
    "observed_low_not_consumed=12\n",
    "\n",
    "observed_medium_consumed = 14\n",
    "observed_medium_not_consumed = 22\n",
    "\n",
    "observed_high_consumed = 52\n",
    "observed_high_not_consumed = 43\n",
    "\n",
    "# Observed frequencies\n",
    "O = np.array([[observed_low_consumed, observed_low_not_consumed],\n",
    "              [observed_medium_consumed, observed_medium_not_consumed],\n",
    "              [observed_high_consumed, observed_high_not_consumed]])\n",
    "\n",
    "# Expected frequencies (assuming independence)\n",
    "total_rows = O.sum(axis=1)\n",
    "total_cols = O.sum(axis=0)\n",
    "expected = np.outer(total_rows, total_cols) / total_rows.sum()\n",
    "\n",
    "# Chi-squared test\n",
    "stats, p_value = st.chisquare(f_obs=O.flatten(), f_exp=expected.flatten(), ddof=2, axis=None)\n",
    "alpha = 0.05\n",
    "\n",
    "print(f\"Chi-squared statistic: {stats}\")\n",
    "print(f\"P-value: {p_value}\")\n",
    "\n",
    "# Check for significance\n",
    "if p_value < alpha:\n",
    "    print(\"There is a significant association between patterns of physical activity and sugary drink consumption.\")\n",
    "else:\n",
    "    print(\"There is no significant association between patterns of physical activity and sugary drink consumption.\")\n"
   ]
  },
  {
   "cell_type": "code",
   "execution_count": null,
   "metadata": {},
   "outputs": [],
   "source": []
  }
 ],
 "metadata": {
  "kernelspec": {
   "display_name": "Python 3 (ipykernel)",
   "language": "python",
   "name": "python3"
  },
  "language_info": {
   "codemirror_mode": {
    "name": "ipython",
    "version": 3
   },
   "file_extension": ".py",
   "mimetype": "text/x-python",
   "name": "python",
   "nbconvert_exporter": "python",
   "pygments_lexer": "ipython3",
   "version": "3.11.4"
  }
 },
 "nbformat": 4,
 "nbformat_minor": 2
}
